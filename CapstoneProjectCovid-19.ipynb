{
    "cells": [
        {
            "metadata": {},
            "cell_type": "markdown",
            "source": "# Data Science Capstone Project - European COVID-19 Analysis"
        },
        {
            "metadata": {},
            "cell_type": "markdown",
            "source": "## Introduction"
        },
        {
            "metadata": {},
            "cell_type": "markdown",
            "source": "After a recent surge in public attacks against medical laboratories due COVID-19, the World Health Organisation (WHO) have engaged the services of a wannabe data scientist."
        },
        {
            "metadata": {},
            "cell_type": "markdown",
            "source": "## Business Problem"
        },
        {
            "metadata": {},
            "cell_type": "markdown",
            "source": "The WHO require an investigation into the conspiracy theory involving the prevalence of medical laboratories and the death rate of the associated country.\n\nSpecifically they require:\n\n1. European countries to be assigned to a category based on COVID-19 death rate\n2. Establish if there is a correlation between medical laboratories and death rate\n\n\n"
        },
        {
            "metadata": {},
            "cell_type": "markdown",
            "source": "## Data"
        },
        {
            "metadata": {},
            "cell_type": "code",
            "source": "# import packages required\n\nimport requests\nimport pandas as pd\nimport numpy as np\nfrom pandas.io.json import json_normalize\nfrom geopy.geocoders import Nominatim",
            "execution_count": 9,
            "outputs": []
        },
        {
            "metadata": {},
            "cell_type": "markdown",
            "source": "### FourSquare Medical Facility information"
        },
        {
            "metadata": {},
            "cell_type": "code",
            "source": "# FourSquare credentials\n\nCLIENT_ID = 'RGSEAE3TO55N3VLHU4RYF3C5A5PWCKZUOBQ5JLQAWUTMBNLF' # your Foursquare ID\nCLIENT_SECRET = 'TWFMJ0UAR5ILWQ1VGL5LFAEMJ44A4DXAXRM0YQTBG3BY2U5K' # your Foursquare Secret\nVERSION = '20180604'\nLIMIT = 100\nprint('Your credentails:')\nprint('CLIENT_ID: ' + CLIENT_ID)\nprint('CLIENT_SECRET:' + CLIENT_SECRET)",
            "execution_count": 6,
            "outputs": [
                {
                    "output_type": "stream",
                    "text": "Your credentails:\nCLIENT_ID: RGSEAE3TO55N3VLHU4RYF3C5A5PWCKZUOBQ5JLQAWUTMBNLF\nCLIENT_SECRET:TWFMJ0UAR5ILWQ1VGL5LFAEMJ44A4DXAXRM0YQTBG3BY2U5K\n",
                    "name": "stdout"
                }
            ]
        },
        {
            "metadata": {},
            "cell_type": "code",
            "source": "# example of Medical lab infomation\n\naddress = 'Melbourne, Australia'\n\ngeolocator = Nominatim(user_agent=\"foursquare_agent\")\nlocation = geolocator.geocode(address)\nlatitude = location.latitude\nlongitude = location.longitude\n#print(latitude, longitude)\n\nsearch_query = 'Medical'\nradius = 1000\n\nurl = 'https://api.foursquare.com/v2/venues/search?client_id={}&client_secret={}&ll={},{}&v={}&query={}&radius={}&limit={}'.format(CLIENT_ID, CLIENT_SECRET, latitude, longitude, VERSION, search_query, radius, LIMIT)\n#url\n\nresults = requests.get(url).json()\n#results\n\n# assign relevant part of JSON to venues\nvenues = results['response']['venues']\n\n# tranform venues into a dataframe\ndataframe = json_normalize(venues)\ndataframe.head()",
            "execution_count": 18,
            "outputs": [
                {
                    "output_type": "execute_result",
                    "execution_count": 18,
                    "data": {
                        "text/plain": "                                          categories  hasPerk  \\\n0  [{'id': '4bf58dd8d48988d177941735', 'name': 'D...    False   \n1  [{'id': '4bf58dd8d48988d177941735', 'name': 'D...    False   \n2                                                 []    False   \n3  [{'id': '4bf58dd8d48988d177941735', 'name': 'D...    False   \n4  [{'id': '4bf58dd8d48988d104941735', 'name': 'M...    False   \n\n                         id                             location.address  \\\n0  4cbbbe54bac937047b30f47c                               463 Bourke St.   \n1  4be0a28d4f15c92841e5cb0b  Level 3, 23 QV Terrace, 292 Swanston Street   \n2  4b75f872f964a5201d332ee3                            45 Collins Street   \n3  51b67ceb498ee6c810a8ea54                  Level 4,250, Collins Street   \n4  5035b48fe4b0e3f1e5b123d6                         7/267 Collins Street   \n\n  location.cc location.city location.country        location.crossStreet  \\\n0          AU     Melbourne        Australia                         NaN   \n1          AU     Melbourne        Australia  Cnr Swanston & Lonsdale St   \n2          AU     Melbourne        Australia                         NaN   \n3          AU     Melbourne        Australia                         NaN   \n4          AU     Melbourne        Australia                         NaN   \n\n   location.distance                          location.formattedAddress  \\\n0                171    [463 Bourke St., Melbourne VIC 3000, Australia]   \n1                457  [Level 3, 23 QV Terrace, 292 Swanston Street (...   \n2                838  [45 Collins Street, Melbourne VIC 3000, Austra...   \n3                265  [Level 4,250, Collins Street, Melbourne VIC 30...   \n4                273  [7/267 Collins Street, Melbourne VIC 3000, Aus...   \n\n                             location.labeledLatLngs  location.lat  \\\n0  [{'label': 'display', 'lat': -37.8151724400127...    -37.815172   \n1  [{'label': 'display', 'lat': -37.8106192550542...    -37.810619   \n2  [{'label': 'display', 'lat': -37.814379, 'lng'...    -37.814379   \n3  [{'label': 'display', 'lat': -37.81573, 'lng':...    -37.815730   \n4  [{'label': 'display', 'lat': -37.81614, 'lng':...    -37.816140   \n\n   location.lng location.neighborhood location.postalCode location.state  \\\n0    144.961627                   NaN                3000            VIC   \n1    144.965673                   NaN                3000            VIC   \n2    144.972691                   NaN                3000            VIC   \n3    144.965490                   NaN                3000            VIC   \n4    144.965100                   NaN                3000            VIC   \n\n                              name    referralId venuePage.id  \n0              Town Medical Centre  v-1589432462          NaN  \n1                      Medical One  v-1589432462          NaN  \n2  Cosmetic & Laser Medical Centre  v-1589432462    557211494  \n3   Medical Specialists on Collins  v-1589432462          NaN  \n4    Collins Street Medical Centre  v-1589432462          NaN  ",
                        "text/html": "<div>\n<style scoped>\n    .dataframe tbody tr th:only-of-type {\n        vertical-align: middle;\n    }\n\n    .dataframe tbody tr th {\n        vertical-align: top;\n    }\n\n    .dataframe thead th {\n        text-align: right;\n    }\n</style>\n<table border=\"1\" class=\"dataframe\">\n  <thead>\n    <tr style=\"text-align: right;\">\n      <th></th>\n      <th>categories</th>\n      <th>hasPerk</th>\n      <th>id</th>\n      <th>location.address</th>\n      <th>location.cc</th>\n      <th>location.city</th>\n      <th>location.country</th>\n      <th>location.crossStreet</th>\n      <th>location.distance</th>\n      <th>location.formattedAddress</th>\n      <th>location.labeledLatLngs</th>\n      <th>location.lat</th>\n      <th>location.lng</th>\n      <th>location.neighborhood</th>\n      <th>location.postalCode</th>\n      <th>location.state</th>\n      <th>name</th>\n      <th>referralId</th>\n      <th>venuePage.id</th>\n    </tr>\n  </thead>\n  <tbody>\n    <tr>\n      <th>0</th>\n      <td>[{'id': '4bf58dd8d48988d177941735', 'name': 'D...</td>\n      <td>False</td>\n      <td>4cbbbe54bac937047b30f47c</td>\n      <td>463 Bourke St.</td>\n      <td>AU</td>\n      <td>Melbourne</td>\n      <td>Australia</td>\n      <td>NaN</td>\n      <td>171</td>\n      <td>[463 Bourke St., Melbourne VIC 3000, Australia]</td>\n      <td>[{'label': 'display', 'lat': -37.8151724400127...</td>\n      <td>-37.815172</td>\n      <td>144.961627</td>\n      <td>NaN</td>\n      <td>3000</td>\n      <td>VIC</td>\n      <td>Town Medical Centre</td>\n      <td>v-1589432462</td>\n      <td>NaN</td>\n    </tr>\n    <tr>\n      <th>1</th>\n      <td>[{'id': '4bf58dd8d48988d177941735', 'name': 'D...</td>\n      <td>False</td>\n      <td>4be0a28d4f15c92841e5cb0b</td>\n      <td>Level 3, 23 QV Terrace, 292 Swanston Street</td>\n      <td>AU</td>\n      <td>Melbourne</td>\n      <td>Australia</td>\n      <td>Cnr Swanston &amp; Lonsdale St</td>\n      <td>457</td>\n      <td>[Level 3, 23 QV Terrace, 292 Swanston Street (...</td>\n      <td>[{'label': 'display', 'lat': -37.8106192550542...</td>\n      <td>-37.810619</td>\n      <td>144.965673</td>\n      <td>NaN</td>\n      <td>3000</td>\n      <td>VIC</td>\n      <td>Medical One</td>\n      <td>v-1589432462</td>\n      <td>NaN</td>\n    </tr>\n    <tr>\n      <th>2</th>\n      <td>[]</td>\n      <td>False</td>\n      <td>4b75f872f964a5201d332ee3</td>\n      <td>45 Collins Street</td>\n      <td>AU</td>\n      <td>Melbourne</td>\n      <td>Australia</td>\n      <td>NaN</td>\n      <td>838</td>\n      <td>[45 Collins Street, Melbourne VIC 3000, Austra...</td>\n      <td>[{'label': 'display', 'lat': -37.814379, 'lng'...</td>\n      <td>-37.814379</td>\n      <td>144.972691</td>\n      <td>NaN</td>\n      <td>3000</td>\n      <td>VIC</td>\n      <td>Cosmetic &amp; Laser Medical Centre</td>\n      <td>v-1589432462</td>\n      <td>557211494</td>\n    </tr>\n    <tr>\n      <th>3</th>\n      <td>[{'id': '4bf58dd8d48988d177941735', 'name': 'D...</td>\n      <td>False</td>\n      <td>51b67ceb498ee6c810a8ea54</td>\n      <td>Level 4,250, Collins Street</td>\n      <td>AU</td>\n      <td>Melbourne</td>\n      <td>Australia</td>\n      <td>NaN</td>\n      <td>265</td>\n      <td>[Level 4,250, Collins Street, Melbourne VIC 30...</td>\n      <td>[{'label': 'display', 'lat': -37.81573, 'lng':...</td>\n      <td>-37.815730</td>\n      <td>144.965490</td>\n      <td>NaN</td>\n      <td>3000</td>\n      <td>VIC</td>\n      <td>Medical Specialists on Collins</td>\n      <td>v-1589432462</td>\n      <td>NaN</td>\n    </tr>\n    <tr>\n      <th>4</th>\n      <td>[{'id': '4bf58dd8d48988d104941735', 'name': 'M...</td>\n      <td>False</td>\n      <td>5035b48fe4b0e3f1e5b123d6</td>\n      <td>7/267 Collins Street</td>\n      <td>AU</td>\n      <td>Melbourne</td>\n      <td>Australia</td>\n      <td>NaN</td>\n      <td>273</td>\n      <td>[7/267 Collins Street, Melbourne VIC 3000, Aus...</td>\n      <td>[{'label': 'display', 'lat': -37.81614, 'lng':...</td>\n      <td>-37.816140</td>\n      <td>144.965100</td>\n      <td>NaN</td>\n      <td>3000</td>\n      <td>VIC</td>\n      <td>Collins Street Medical Centre</td>\n      <td>v-1589432462</td>\n      <td>NaN</td>\n    </tr>\n  </tbody>\n</table>\n</div>"
                    },
                    "metadata": {}
                }
            ]
        },
        {
            "metadata": {},
            "cell_type": "markdown",
            "source": "### Wikipedia Country Covid-19 information"
        },
        {
            "metadata": {},
            "cell_type": "code",
            "source": "# pull covid-19 stats from wikipedia\n\nurl_covid = 'https://en.wikipedia.org/wiki/Template:COVID-19_pandemic_data#covid19-container'\nhtml_covid = requests.get(url_covid).content\ndf_list = pd.read_html(html_covid)\ndf_covid = df_list[0]\n\ndf_covid.head()",
            "execution_count": 3,
            "outputs": [
                {
                    "output_type": "execute_result",
                    "execution_count": 3,
                    "data": {
                        "text/plain": "  Locations[a]                     Cases[b] Deaths[c] Recov.[d]      Ref.\n           229              229.1 4,347,015   297,197 1,548,547       [2]\n0          NaN   United States[e]   1421061     84763    243517       [9]\n1          NaN          Russia[f]    242271      2212     48003      [10]\n2          NaN  United Kingdom[g]    229705     33186   No data  [12][13]\n3          NaN           Spain[h]    228691     27104    140823      [14]\n4          NaN              Italy    222104     31106    112541  [15][16]",
                        "text/html": "<div>\n<style scoped>\n    .dataframe tbody tr th:only-of-type {\n        vertical-align: middle;\n    }\n\n    .dataframe tbody tr th {\n        vertical-align: top;\n    }\n\n    .dataframe thead tr th {\n        text-align: left;\n    }\n</style>\n<table border=\"1\" class=\"dataframe\">\n  <thead>\n    <tr>\n      <th></th>\n      <th colspan=\"2\" halign=\"left\">Locations[a]</th>\n      <th>Cases[b]</th>\n      <th>Deaths[c]</th>\n      <th>Recov.[d]</th>\n      <th>Ref.</th>\n    </tr>\n    <tr>\n      <th></th>\n      <th>229</th>\n      <th>229.1</th>\n      <th>4,347,015</th>\n      <th>297,197</th>\n      <th>1,548,547</th>\n      <th>[2]</th>\n    </tr>\n  </thead>\n  <tbody>\n    <tr>\n      <th>0</th>\n      <td>NaN</td>\n      <td>United States[e]</td>\n      <td>1421061</td>\n      <td>84763</td>\n      <td>243517</td>\n      <td>[9]</td>\n    </tr>\n    <tr>\n      <th>1</th>\n      <td>NaN</td>\n      <td>Russia[f]</td>\n      <td>242271</td>\n      <td>2212</td>\n      <td>48003</td>\n      <td>[10]</td>\n    </tr>\n    <tr>\n      <th>2</th>\n      <td>NaN</td>\n      <td>United Kingdom[g]</td>\n      <td>229705</td>\n      <td>33186</td>\n      <td>No data</td>\n      <td>[12][13]</td>\n    </tr>\n    <tr>\n      <th>3</th>\n      <td>NaN</td>\n      <td>Spain[h]</td>\n      <td>228691</td>\n      <td>27104</td>\n      <td>140823</td>\n      <td>[14]</td>\n    </tr>\n    <tr>\n      <th>4</th>\n      <td>NaN</td>\n      <td>Italy</td>\n      <td>222104</td>\n      <td>31106</td>\n      <td>112541</td>\n      <td>[15][16]</td>\n    </tr>\n  </tbody>\n</table>\n</div>"
                    },
                    "metadata": {}
                }
            ]
        },
        {
            "metadata": {},
            "cell_type": "markdown",
            "source": "### Wikipedia Capital Cities of Europe "
        },
        {
            "metadata": {},
            "cell_type": "code",
            "source": "# pull capital city info from nationsonline.org\n\nurl_capitals = 'https://www.nationsonline.org/oneworld/capitals_europe.htm'\nhtml_capitals = requests.get(url_capitals).content\ndf_list = pd.read_html(html_capitals)\ndf_capitals = df_list[2]\n\ndf_capitals.head()",
            "execution_count": 5,
            "outputs": [
                {
                    "output_type": "execute_result",
                    "execution_count": 5,
                    "data": {
                        "text/plain": "                                              0  \\\n0           Capital Cities and States of Europe   \n1                                  Capital City   \n2  Amsterdam The Hague (Den Haag; seat of govt)   \n3                              Andorra la Vella   \n4                               Athens (Ath\u00edna)   \n\n                                     1                                    2  \\\n0  Capital Cities and States of Europe  Capital Cities and States of Europe   \n1               Satellite View and Map                             Citizens   \n2              Amsterdam Map The Hague                      863,000 540,000   \n3                 Andorra la Vella Map                                23000   \n4                           Athens Map                               664000   \n\n                                     3  \\\n0  Capital Cities and States of Europe   \n1                              Country   \n2                          Netherlands   \n3                              Andorra   \n4                               Greece   \n\n                                                   4  \n0                Capital Cities and States of Europe  \n1  Tower Bridge, London (adsbygoogle = window.ads...  \n2  Tower Bridge, London (adsbygoogle = window.ads...  \n3  Tower Bridge, London (adsbygoogle = window.ads...  \n4  Tower Bridge, London (adsbygoogle = window.ads...  ",
                        "text/html": "<div>\n<style scoped>\n    .dataframe tbody tr th:only-of-type {\n        vertical-align: middle;\n    }\n\n    .dataframe tbody tr th {\n        vertical-align: top;\n    }\n\n    .dataframe thead th {\n        text-align: right;\n    }\n</style>\n<table border=\"1\" class=\"dataframe\">\n  <thead>\n    <tr style=\"text-align: right;\">\n      <th></th>\n      <th>0</th>\n      <th>1</th>\n      <th>2</th>\n      <th>3</th>\n      <th>4</th>\n    </tr>\n  </thead>\n  <tbody>\n    <tr>\n      <th>0</th>\n      <td>Capital Cities and States of Europe</td>\n      <td>Capital Cities and States of Europe</td>\n      <td>Capital Cities and States of Europe</td>\n      <td>Capital Cities and States of Europe</td>\n      <td>Capital Cities and States of Europe</td>\n    </tr>\n    <tr>\n      <th>1</th>\n      <td>Capital City</td>\n      <td>Satellite View and Map</td>\n      <td>Citizens</td>\n      <td>Country</td>\n      <td>Tower Bridge, London (adsbygoogle = window.ads...</td>\n    </tr>\n    <tr>\n      <th>2</th>\n      <td>Amsterdam The Hague (Den Haag; seat of govt)</td>\n      <td>Amsterdam Map The Hague</td>\n      <td>863,000 540,000</td>\n      <td>Netherlands</td>\n      <td>Tower Bridge, London (adsbygoogle = window.ads...</td>\n    </tr>\n    <tr>\n      <th>3</th>\n      <td>Andorra la Vella</td>\n      <td>Andorra la Vella Map</td>\n      <td>23000</td>\n      <td>Andorra</td>\n      <td>Tower Bridge, London (adsbygoogle = window.ads...</td>\n    </tr>\n    <tr>\n      <th>4</th>\n      <td>Athens (Ath\u00edna)</td>\n      <td>Athens Map</td>\n      <td>664000</td>\n      <td>Greece</td>\n      <td>Tower Bridge, London (adsbygoogle = window.ads...</td>\n    </tr>\n  </tbody>\n</table>\n</div>"
                    },
                    "metadata": {}
                }
            ]
        },
        {
            "metadata": {},
            "cell_type": "markdown",
            "source": "### Wikipedia Country Populations"
        },
        {
            "metadata": {},
            "cell_type": "code",
            "source": "# pull country population stats from wikipedia\n\nurl_worldPop = 'https://en.wikipedia.org/wiki/List_of_countries_and_dependencies_by_population'\nhtml_worldPop = requests.get(url_worldPop).content\ndf_list = pd.read_html(html_worldPop)\ndf_worldPop = df_list[0]\n\ndf_worldPop.head()",
            "execution_count": 4,
            "outputs": [
                {
                    "output_type": "execute_result",
                    "execution_count": 4,
                    "data": {
                        "text/plain": "  Rank Country (or dependent territory)  Population % of worldpopulation  \\\n0    1                         China[b]  1402640000                  NaN   \n1    2                         India[c]  1362227886                  NaN   \n2    3                 United States[d]   329685899                  NaN   \n3    4                        Indonesia   266911900                  NaN   \n4    5                      Pakistan[e]   220892331                  NaN   \n\n          Date                         Source  \n0  14 May 2020   National population clock[3]  \n1  14 May 2020   National population clock[4]  \n2  14 May 2020   National population clock[5]  \n3   1 Jul 2019  National annual projection[6]  \n4   1 Jul 2020               UN Projection[2]  ",
                        "text/html": "<div>\n<style scoped>\n    .dataframe tbody tr th:only-of-type {\n        vertical-align: middle;\n    }\n\n    .dataframe tbody tr th {\n        vertical-align: top;\n    }\n\n    .dataframe thead th {\n        text-align: right;\n    }\n</style>\n<table border=\"1\" class=\"dataframe\">\n  <thead>\n    <tr style=\"text-align: right;\">\n      <th></th>\n      <th>Rank</th>\n      <th>Country (or dependent territory)</th>\n      <th>Population</th>\n      <th>% of worldpopulation</th>\n      <th>Date</th>\n      <th>Source</th>\n    </tr>\n  </thead>\n  <tbody>\n    <tr>\n      <th>0</th>\n      <td>1</td>\n      <td>China[b]</td>\n      <td>1402640000</td>\n      <td>NaN</td>\n      <td>14 May 2020</td>\n      <td>National population clock[3]</td>\n    </tr>\n    <tr>\n      <th>1</th>\n      <td>2</td>\n      <td>India[c]</td>\n      <td>1362227886</td>\n      <td>NaN</td>\n      <td>14 May 2020</td>\n      <td>National population clock[4]</td>\n    </tr>\n    <tr>\n      <th>2</th>\n      <td>3</td>\n      <td>United States[d]</td>\n      <td>329685899</td>\n      <td>NaN</td>\n      <td>14 May 2020</td>\n      <td>National population clock[5]</td>\n    </tr>\n    <tr>\n      <th>3</th>\n      <td>4</td>\n      <td>Indonesia</td>\n      <td>266911900</td>\n      <td>NaN</td>\n      <td>1 Jul 2019</td>\n      <td>National annual projection[6]</td>\n    </tr>\n    <tr>\n      <th>4</th>\n      <td>5</td>\n      <td>Pakistan[e]</td>\n      <td>220892331</td>\n      <td>NaN</td>\n      <td>1 Jul 2020</td>\n      <td>UN Projection[2]</td>\n    </tr>\n  </tbody>\n</table>\n</div>"
                    },
                    "metadata": {}
                }
            ]
        },
        {
            "metadata": {},
            "cell_type": "code",
            "source": "",
            "execution_count": null,
            "outputs": []
        }
    ],
    "metadata": {
        "kernelspec": {
            "name": "python3",
            "display_name": "Python 3.6",
            "language": "python"
        },
        "language_info": {
            "name": "python",
            "version": "3.6.9",
            "mimetype": "text/x-python",
            "codemirror_mode": {
                "name": "ipython",
                "version": 3
            },
            "pygments_lexer": "ipython3",
            "nbconvert_exporter": "python",
            "file_extension": ".py"
        }
    },
    "nbformat": 4,
    "nbformat_minor": 4
}