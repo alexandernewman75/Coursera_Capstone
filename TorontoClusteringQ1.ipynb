{
    "cells": [
        {
            "metadata": {},
            "cell_type": "markdown",
            "source": "# Toronto Clustering Project - Alex Newman"
        },
        {
            "metadata": {},
            "cell_type": "markdown",
            "source": "## Question 1 - Create Postal Code Dataset"
        },
        {
            "metadata": {},
            "cell_type": "code",
            "source": "# install pgeocode to generate post codes for Canada\n\n!pip install pgeocode",
            "execution_count": 1,
            "outputs": [
                {
                    "output_type": "stream",
                    "text": "Requirement already satisfied: pgeocode in /opt/conda/envs/Python36/lib/python3.6/site-packages (0.2.1)\nRequirement already satisfied: requests in /opt/conda/envs/Python36/lib/python3.6/site-packages (from pgeocode) (2.21.0)\nRequirement already satisfied: pandas in /opt/conda/envs/Python36/lib/python3.6/site-packages (from pgeocode) (0.24.1)\nRequirement already satisfied: numpy in /opt/conda/envs/Python36/lib/python3.6/site-packages (from pgeocode) (1.15.4)\nRequirement already satisfied: chardet<3.1.0,>=3.0.2 in /opt/conda/envs/Python36/lib/python3.6/site-packages (from requests->pgeocode) (3.0.4)\nRequirement already satisfied: certifi>=2017.4.17 in /opt/conda/envs/Python36/lib/python3.6/site-packages (from requests->pgeocode) (2020.4.5.1)\nRequirement already satisfied: urllib3<1.25,>=1.21.1 in /opt/conda/envs/Python36/lib/python3.6/site-packages (from requests->pgeocode) (1.24.1)\nRequirement already satisfied: idna<2.9,>=2.5 in /opt/conda/envs/Python36/lib/python3.6/site-packages (from requests->pgeocode) (2.8)\nRequirement already satisfied: python-dateutil>=2.5.0 in /opt/conda/envs/Python36/lib/python3.6/site-packages (from pandas->pgeocode) (2.7.5)\nRequirement already satisfied: pytz>=2011k in /opt/conda/envs/Python36/lib/python3.6/site-packages (from pandas->pgeocode) (2018.9)\nRequirement already satisfied: six>=1.5 in /opt/conda/envs/Python36/lib/python3.6/site-packages (from python-dateutil>=2.5.0->pandas->pgeocode) (1.12.0)\n",
                    "name": "stdout"
                }
            ]
        },
        {
            "metadata": {},
            "cell_type": "code",
            "source": "#import required packages\n\nimport requests\nimport pandas as pd\nimport numpy as np\n\n# grab information from wikipedia\n\nurl = 'https://en.wikipedia.org/wiki/List_of_postal_codes_of_Canada:_M'\n\n#identify tables and create a dataframe\n\nhtml = requests.get(url).content\ndf_list = pd.read_html(html)\ndf = df_list[0]\n\n#print dataframe\n\nprint(df)\n",
            "execution_count": 2,
            "outputs": [
                {
                    "output_type": "stream",
                    "text": "    Postal Code           Borough  \\\n0           M1A      Not assigned   \n1           M2A      Not assigned   \n2           M3A        North York   \n3           M4A        North York   \n4           M5A  Downtown Toronto   \n5           M6A        North York   \n6           M7A  Downtown Toronto   \n7           M8A      Not assigned   \n8           M9A         Etobicoke   \n9           M1B       Scarborough   \n10          M2B      Not assigned   \n11          M3B        North York   \n12          M4B         East York   \n13          M5B  Downtown Toronto   \n14          M6B        North York   \n15          M7B      Not assigned   \n16          M8B      Not assigned   \n17          M9B         Etobicoke   \n18          M1C       Scarborough   \n19          M2C      Not assigned   \n20          M3C        North York   \n21          M4C         East York   \n22          M5C  Downtown Toronto   \n23          M6C              York   \n24          M7C      Not assigned   \n25          M8C      Not assigned   \n26          M9C         Etobicoke   \n27          M1E       Scarborough   \n28          M2E      Not assigned   \n29          M3E      Not assigned   \n..          ...               ...   \n150         M7W      Not assigned   \n151         M8W         Etobicoke   \n152         M9W         Etobicoke   \n153         M1X       Scarborough   \n154         M2X      Not assigned   \n155         M3X      Not assigned   \n156         M4X  Downtown Toronto   \n157         M5X  Downtown Toronto   \n158         M6X      Not assigned   \n159         M7X      Not assigned   \n160         M8X         Etobicoke   \n161         M9X      Not assigned   \n162         M1Y      Not assigned   \n163         M2Y      Not assigned   \n164         M3Y      Not assigned   \n165         M4Y  Downtown Toronto   \n166         M5Y      Not assigned   \n167         M6Y      Not assigned   \n168         M7Y      East Toronto   \n169         M8Y         Etobicoke   \n170         M9Y      Not assigned   \n171         M1Z      Not assigned   \n172         M2Z      Not assigned   \n173         M3Z      Not assigned   \n174         M4Z      Not assigned   \n175         M5Z      Not assigned   \n176         M6Z      Not assigned   \n177         M7Z      Not assigned   \n178         M8Z         Etobicoke   \n179         M9Z      Not assigned   \n\n                                          Neighborhood  \n0                                                  NaN  \n1                                                  NaN  \n2                                            Parkwoods  \n3                                     Victoria Village  \n4                            Regent Park, Harbourfront  \n5                     Lawrence Manor, Lawrence Heights  \n6          Queen's Park, Ontario Provincial Government  \n7                                                  NaN  \n8                                     Islington Avenue  \n9                                       Malvern, Rouge  \n10                                                 NaN  \n11                                           Don Mills  \n12                     Parkview Hill, Woodbine Gardens  \n13                            Garden District, Ryerson  \n14                                           Glencairn  \n15                                                 NaN  \n16                                                 NaN  \n17   West Deane Park, Princess Gardens, Martin Grov...  \n18              Rouge Hill, Port Union, Highland Creek  \n19                                                 NaN  \n20                                           Don Mills  \n21                                    Woodbine Heights  \n22                                      St. James Town  \n23                                  Humewood-Cedarvale  \n24                                                 NaN  \n25                                                 NaN  \n26   Eringate, Bloordale Gardens, Old Burnhamthorpe...  \n27                   Guildwood, Morningside, West Hill  \n28                                                 NaN  \n29                                                 NaN  \n..                                                 ...  \n150                                                NaN  \n151                             Alderwood, Long Branch  \n152                                          Northwest  \n153                                        Upper Rouge  \n154                                                NaN  \n155                                                NaN  \n156                        St. James Town, Cabbagetown  \n157             First Canadian Place, Underground city  \n158                                                NaN  \n159                                                NaN  \n160      The Kingsway, Montgomery Road, Old Mill North  \n161                                                NaN  \n162                                                NaN  \n163                                                NaN  \n164                                                NaN  \n165                               Church and Wellesley  \n166                                                NaN  \n167                                                NaN  \n168              Business reply mail Processing Centre  \n169  Old Mill South, King's Mill Park, Sunnylea, Hu...  \n170                                                NaN  \n171                                                NaN  \n172                                                NaN  \n173                                                NaN  \n174                                                NaN  \n175                                                NaN  \n176                                                NaN  \n177                                                NaN  \n178  Mimico NW, The Queensway West, South of Bloor,...  \n179                                                NaN  \n\n[180 rows x 3 columns]\n",
                    "name": "stdout"
                }
            ]
        },
        {
            "metadata": {},
            "cell_type": "code",
            "source": "df.head()",
            "execution_count": 3,
            "outputs": [
                {
                    "output_type": "execute_result",
                    "execution_count": 3,
                    "data": {
                        "text/plain": "  Postal Code           Borough               Neighborhood\n0         M1A      Not assigned                        NaN\n1         M2A      Not assigned                        NaN\n2         M3A        North York                  Parkwoods\n3         M4A        North York           Victoria Village\n4         M5A  Downtown Toronto  Regent Park, Harbourfront",
                        "text/html": "<div>\n<style scoped>\n    .dataframe tbody tr th:only-of-type {\n        vertical-align: middle;\n    }\n\n    .dataframe tbody tr th {\n        vertical-align: top;\n    }\n\n    .dataframe thead th {\n        text-align: right;\n    }\n</style>\n<table border=\"1\" class=\"dataframe\">\n  <thead>\n    <tr style=\"text-align: right;\">\n      <th></th>\n      <th>Postal Code</th>\n      <th>Borough</th>\n      <th>Neighborhood</th>\n    </tr>\n  </thead>\n  <tbody>\n    <tr>\n      <th>0</th>\n      <td>M1A</td>\n      <td>Not assigned</td>\n      <td>NaN</td>\n    </tr>\n    <tr>\n      <th>1</th>\n      <td>M2A</td>\n      <td>Not assigned</td>\n      <td>NaN</td>\n    </tr>\n    <tr>\n      <th>2</th>\n      <td>M3A</td>\n      <td>North York</td>\n      <td>Parkwoods</td>\n    </tr>\n    <tr>\n      <th>3</th>\n      <td>M4A</td>\n      <td>North York</td>\n      <td>Victoria Village</td>\n    </tr>\n    <tr>\n      <th>4</th>\n      <td>M5A</td>\n      <td>Downtown Toronto</td>\n      <td>Regent Park, Harbourfront</td>\n    </tr>\n  </tbody>\n</table>\n</div>"
                    },
                    "metadata": {}
                }
            ]
        },
        {
            "metadata": {},
            "cell_type": "code",
            "source": "# Data Clean up\n\n# identify Borough information that has not been assigned\n\ndf['Borough'].replace(\"Not assigned\", np.nan, inplace=True)\n\n# drop rows that don't have the correct information\n\ndf.dropna(subset=[\"Borough\"], axis=0, inplace=True)\n\n# identify Neighbourhoods that haven't been assigned\n\ndf.loc[df[\"Neighborhood\"]== 'Not assigned']\n\n# reset indexes\n\ndf.reset_index(drop=True, inplace=True)",
            "execution_count": 4,
            "outputs": []
        },
        {
            "metadata": {},
            "cell_type": "code",
            "source": "",
            "execution_count": null,
            "outputs": []
        },
        {
            "metadata": {},
            "cell_type": "code",
            "source": "# check null values have been removed\n\nmissing_data = df.isnull()\nmissing_data.head()",
            "execution_count": 5,
            "outputs": [
                {
                    "output_type": "execute_result",
                    "execution_count": 5,
                    "data": {
                        "text/plain": "   Postal Code  Borough  Neighborhood\n0        False    False         False\n1        False    False         False\n2        False    False         False\n3        False    False         False\n4        False    False         False",
                        "text/html": "<div>\n<style scoped>\n    .dataframe tbody tr th:only-of-type {\n        vertical-align: middle;\n    }\n\n    .dataframe tbody tr th {\n        vertical-align: top;\n    }\n\n    .dataframe thead th {\n        text-align: right;\n    }\n</style>\n<table border=\"1\" class=\"dataframe\">\n  <thead>\n    <tr style=\"text-align: right;\">\n      <th></th>\n      <th>Postal Code</th>\n      <th>Borough</th>\n      <th>Neighborhood</th>\n    </tr>\n  </thead>\n  <tbody>\n    <tr>\n      <th>0</th>\n      <td>False</td>\n      <td>False</td>\n      <td>False</td>\n    </tr>\n    <tr>\n      <th>1</th>\n      <td>False</td>\n      <td>False</td>\n      <td>False</td>\n    </tr>\n    <tr>\n      <th>2</th>\n      <td>False</td>\n      <td>False</td>\n      <td>False</td>\n    </tr>\n    <tr>\n      <th>3</th>\n      <td>False</td>\n      <td>False</td>\n      <td>False</td>\n    </tr>\n    <tr>\n      <th>4</th>\n      <td>False</td>\n      <td>False</td>\n      <td>False</td>\n    </tr>\n  </tbody>\n</table>\n</div>"
                    },
                    "metadata": {}
                }
            ]
        },
        {
            "metadata": {},
            "cell_type": "code",
            "source": "# print shape of dataframe\n\ndf.shape",
            "execution_count": 6,
            "outputs": [
                {
                    "output_type": "execute_result",
                    "execution_count": 6,
                    "data": {
                        "text/plain": "(103, 3)"
                    },
                    "metadata": {}
                }
            ]
        },
        {
            "metadata": {},
            "cell_type": "code",
            "source": "",
            "execution_count": null,
            "outputs": []
        }
    ],
    "metadata": {
        "kernelspec": {
            "name": "python3",
            "display_name": "Python 3.6",
            "language": "python"
        },
        "language_info": {
            "name": "python",
            "version": "3.6.9",
            "mimetype": "text/x-python",
            "codemirror_mode": {
                "name": "ipython",
                "version": 3
            },
            "pygments_lexer": "ipython3",
            "nbconvert_exporter": "python",
            "file_extension": ".py"
        }
    },
    "nbformat": 4,
    "nbformat_minor": 1
}